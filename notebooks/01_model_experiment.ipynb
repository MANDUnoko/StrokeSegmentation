{
 "cells": [
  {
   "cell_type": "code",
   "execution_count": null,
   "metadata": {},
   "outputs": [],
   "source": [
    "# 모델 구조 변경 실험, 파라미터 튜닝"
   ]
  },
  {
   "cell_type": "markdown",
   "metadata": {},
   "source": [
    "# py에 저장된 함수 불러와서 실험하기\n",
    "import sys\n",
    "sys.path.append(\"../scripts\")   # 예시\n",
    "\n",
    "from py파일이름 import 함수이름"
   ]
  }
 ],
 "metadata": {
  "language_info": {
   "name": "python"
  }
 },
 "nbformat": 4,
 "nbformat_minor": 2
}
